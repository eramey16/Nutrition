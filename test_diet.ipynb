{
 "cells": [
  {
   "cell_type": "code",
   "execution_count": 1,
   "metadata": {},
   "outputs": [],
   "source": [
    "### Meal tracker for Mom's new diet\n",
    "### Author: Emily Ramey\n",
    "### Date: 07/08/20\n",
    "\n",
    "import numpy as np\n",
    "import pandas as pd\n",
    "from datetime import date, time, timedelta, datetime\n",
    "from pint import UnitRegistry\n",
    "import pint\n",
    "from py_edamam import Edamam\n",
    "import atlastk as Atlas\n",
    "import sys\n",
    "from importlib import reload\n",
    "import diet_planner as diet"
   ]
  },
  {
   "cell_type": "code",
   "execution_count": 23,
   "metadata": {},
   "outputs": [
    {
     "data": {
      "text/plain": [
       "<module 'diet_planner' from '/Users/emily_ramey/Documents/Nutrition/diet_planner.py'>"
      ]
     },
     "execution_count": 23,
     "metadata": {},
     "output_type": "execute_result"
    }
   ],
   "source": [
    "reload(diet)"
   ]
  },
  {
   "cell_type": "code",
   "execution_count": null,
   "metadata": {
    "jupyter": {
     "source_hidden": true
    }
   },
   "outputs": [],
   "source": [
    "body = \"\"\"\n",
    "<div style=\"display: table; margin: 50px auto auto auto;\">\n",
    " <fieldset>\n",
    "  <input id=\"input\" maxlength=\"20\" placeholder=\"Enter a name here\" type=\"text\"\n",
    "         data-xdh-onevent=\"Submit\" value=\"World\"/>\n",
    "  <div style=\"display: flex; justify-content: space-around; margin: 5px auto auto auto;\">\n",
    "   <button data-xdh-onevent=\"Submit\">Submit</button>\n",
    "   <button data-xdh-onevent=\"Clear\">Clear</button>\n",
    "  </div>\n",
    " </fieldset>\n",
    "</div>\n",
    "\"\"\"\n",
    "\n",
    "def acConnect(dom):\n",
    "  dom.setLayout(\"\", body)\n",
    "  dom.focus(\"input\")\n",
    "\n",
    "def acSubmit(dom):\n",
    "  dom.alert(\"Hello, \" + dom.getContent(\"input\") + \"!\")\n",
    "  dom.focus(\"input\")\n",
    "\n",
    "def acClear(dom):\n",
    "  if ( dom.confirm(\"Are you sure?\") ):\n",
    "    dom.setContent(\"input\", \"\")\n",
    "  dom.focus(\"input\")\n",
    "\n",
    "callbacks = {\n",
    "  \"\": acConnect,  # The action label for a new connection is an empty string.\n",
    "  \"Submit\": acSubmit,\n",
    "  \"Clear\": acClear,\n",
    "}\n",
    "\n",
    "Atlas.launch(callbacks)"
   ]
  },
  {
   "cell_type": "code",
   "execution_count": null,
   "metadata": {
    "jupyter": {
     "source_hidden": true
    }
   },
   "outputs": [],
   "source": [
    "# Don't use for now\n",
    "e = Edamam(nutrition_appid='4a0677b5',\n",
    "           nutrition_appkey='286203781779c30e0982cbf30b3f2af8',\n",
    "           recipes_appid='ef43a047',\n",
    "           recipes_appkey='29fe6ad9ab18cfd0d0cc33a4f623df64',\n",
    "           food_appid='3dd50c02',\n",
    "           food_appkey='375cc9cfc1966a84cb7ab7d7d441e1b6')\n",
    "\n",
    "e.search_nutrient('1 onion')"
   ]
  },
  {
   "cell_type": "code",
   "execution_count": 21,
   "metadata": {},
   "outputs": [],
   "source": [
    "m = diet.Meal.from_file('test_recipe.csv')\n",
    "meal1 = diet.Meal('test1', date=date.today())\n",
    "meal2 = diet.Meal('test2', date=date.today()+timedelta(days=1))\n",
    "meal3 = diet.Meal.from_file('test_recipe.csv', date=date.today()+timedelta(days=2))\n",
    "#meals = [meal3, meal2, meal1]\n",
    "meals = [meal1, meal2, meal3, m]\n",
    "mp = diet.MealPlan(meals=meals)\n",
    "mp.check_diet()\n",
    "mp.to_file()"
   ]
  },
  {
   "cell_type": "code",
   "execution_count": 24,
   "metadata": {},
   "outputs": [
    {
     "data": {
      "text/plain": [
       "[Test1: 2020-07-16,\n",
       " Test Recipe: 2020-07-16,\n",
       " Test2: 2020-07-17,\n",
       " Test Recipe: 2020-07-18]"
      ]
     },
     "execution_count": 24,
     "metadata": {},
     "output_type": "execute_result"
    }
   ],
   "source": [
    "mp = diet.MealPlan.from_file()"
   ]
  },
  {
   "cell_type": "code",
   "execution_count": 141,
   "metadata": {},
   "outputs": [
    {
     "data": {
      "text/html": [
       "\\[226.79618500000004\\ gram\\]"
      ],
      "text/latex": [
       "$226.79618500000004\\ \\mathrm{gram}$"
      ],
      "text/plain": [
       "226.79618500000004 <Unit('gram')>"
      ]
     },
     "execution_count": 141,
     "metadata": {},
     "output_type": "execute_result"
    }
   ],
   "source": [
    "# Might have to change this for liquid measurements vs. solid measurements\n",
    "(1*units.cup).to(units.g) # missing 10 grams"
   ]
  },
  {
   "cell_type": "code",
   "execution_count": 155,
   "metadata": {},
   "outputs": [
    {
     "data": {
      "text/html": [
       "\\[1.0208333333333333\\ cup\\]"
      ],
      "text/latex": [
       "$1.0208333333333333\\ \\mathrm{cup}$"
      ],
      "text/plain": [
       "1.0208333333333333 <Unit('cup')>"
      ]
     },
     "execution_count": 155,
     "metadata": {},
     "output_type": "execute_result"
    }
   ],
   "source": [
    "(1*units.cup)+(1*units.tsp) # can add units willy-nilly"
   ]
  },
  {
   "cell_type": "code",
   "execution_count": 8,
   "metadata": {},
   "outputs": [],
   "source": [
    "# Testing add of context converting cups to oz\n",
    "c = pint.Context('ab')\n",
    "c.add_transformation('[volume]', '[weight]',\n",
    "                     lambda units, cup: cup.magnitude * 8.0 * units.oz)\n",
    "c.add_transformation('oz', 'cup',\n",
    "                     lambda units, oz: oz.magnitude / 8.0 * units.cup)\n",
    "units.enable_contexts('ab')"
   ]
  },
  {
   "cell_type": "code",
   "execution_count": 171,
   "metadata": {},
   "outputs": [
    {
     "data": {
      "text/html": [
       "\\[8\\ ounce\\]"
      ],
      "text/latex": [
       "$8\\ \\mathrm{ounce}$"
      ],
      "text/plain": [
       "8 <Unit('ounce')>"
      ]
     },
     "execution_count": 171,
     "metadata": {},
     "output_type": "execute_result"
    }
   ],
   "source": [
    "units.disable_contexts()\n",
    "units.enable_contexts('ab')\n",
    "c = 1*units.cups\n",
    "c.to(units.oz)"
   ]
  },
  {
   "cell_type": "code",
   "execution_count": 23,
   "metadata": {},
   "outputs": [],
   "source": [
    "d = diet.Diet()\n",
    "d.read_plan()"
   ]
  },
  {
   "cell_type": "code",
   "execution_count": 5,
   "metadata": {},
   "outputs": [
    {
     "name": "stdout",
     "output_type": "stream",
     "text": [
      "test2: 2020-07-16\n",
      "test1: 2020-07-15\n",
      "test3: 2020-07-22\n"
     ]
    }
   ],
   "source": [
    "meal1 = diet.Meal('test1', date=date.today())\n",
    "meal2 = diet.Meal('test2', date=date.today()+timedelta(days=1))\n",
    "meal3 = diet.Meal('test3', date=date.today()+timedelta(days=7))\n",
    "#meals = [meal3, meal2, meal1]\n",
    "meals = [meal2, meal1, meal3]\n",
    "for meal in meals:\n",
    "    print(meal)"
   ]
  },
  {
   "cell_type": "code",
   "execution_count": 15,
   "metadata": {},
   "outputs": [
    {
     "data": {
      "text/plain": [
       "str"
      ]
     },
     "execution_count": 15,
     "metadata": {},
     "output_type": "execute_result"
    }
   ],
   "source": []
  },
  {
   "cell_type": "code",
   "execution_count": null,
   "metadata": {},
   "outputs": [],
   "source": [
    "# Would also like a way to tell if we've planned the week completely or not (e.g. you need 1 more meal, etc.)"
   ]
  }
 ],
 "metadata": {
  "kernelspec": {
   "display_name": "Python 3",
   "language": "python",
   "name": "python3"
  },
  "language_info": {
   "codemirror_mode": {
    "name": "ipython",
    "version": 3
   },
   "file_extension": ".py",
   "mimetype": "text/x-python",
   "name": "python",
   "nbconvert_exporter": "python",
   "pygments_lexer": "ipython3",
   "version": "3.7.4"
  }
 },
 "nbformat": 4,
 "nbformat_minor": 4
}
